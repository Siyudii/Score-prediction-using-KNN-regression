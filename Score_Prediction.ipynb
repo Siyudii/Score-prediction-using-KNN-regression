{
  "cells": [
    {
      "cell_type": "markdown",
      "source": [
        "##Importing Libraries"
      ],
      "metadata": {
        "id": "XvI_lcm85GJX"
      }
    },
    {
      "cell_type": "code",
      "source": [
        "import numpy as np\n",
        "import pandas as pd\n",
        "import matplotlib.pyplot as plt"
      ],
      "metadata": {
        "id": "4h9kBpKG5bit"
      },
      "execution_count": 25,
      "outputs": []
    },
    {
      "cell_type": "markdown",
      "source": [
        "##Importing Datasets"
      ],
      "metadata": {
        "id": "WMWtgaSd9by8"
      }
    },
    {
      "cell_type": "code",
      "source": [
        "dataset = pd.read_csv('nba_2013.csv',usecols=['age', 'g', 'gs', 'mp', 'fg', 'fga', 'fg.', 'x3p',\n",
        " 'x3pa', 'x3p.', 'x2p', 'x2pa', 'x2p.', 'efg.', 'ft', 'fta', 'ft.', 'orb', 'drb', 'trb', 'ast', 'stl', 'blk', 'tov', 'pf', 'pts'])\n",
        "x = dataset.iloc[:, :-1].values\n",
        "y = dataset.iloc[:, -1].values\n"
      ],
      "metadata": {
        "id": "6vvlsUiU9gOn"
      },
      "execution_count": 26,
      "outputs": []
    },
    {
      "cell_type": "markdown",
      "source": [
        "##Spilitting into test and training sets"
      ],
      "metadata": {
        "id": "RPRNNKtOyVgy"
      }
    },
    {
      "cell_type": "code",
      "source": [
        "from sklearn.model_selection import train_test_split\n",
        "x_train, x_test, y_train, y_test = train_test_split(x, y, test_size=0.3, random_state=0)"
      ],
      "metadata": {
        "id": "BxLwkp5Jyaj6"
      },
      "execution_count": 27,
      "outputs": []
    },
    {
      "cell_type": "markdown",
      "source": [
        "##Checking for missing data"
      ],
      "metadata": {
        "id": "VhFdVlSou_Zg"
      }
    },
    {
      "cell_type": "code",
      "source": [
        "array_sum = np.sum(x_train)\n",
        "array_has_nan = np.isnan(array_sum)\n",
        "print(array_has_nan)"
      ],
      "metadata": {
        "id": "jihjtZiJj9_Y",
        "outputId": "182c488c-056f-4963-f242-8eeb7c77feec",
        "colab": {
          "base_uri": "https://localhost:8080/"
        }
      },
      "execution_count": 28,
      "outputs": [
        {
          "output_type": "stream",
          "name": "stdout",
          "text": [
            "True\n"
          ]
        }
      ]
    },
    {
      "cell_type": "markdown",
      "source": [
        "##Taking care of missing data"
      ],
      "metadata": {
        "id": "3NtS7lJt0ZxR"
      }
    },
    {
      "cell_type": "code",
      "source": [
        "from sklearn.impute import SimpleImputer\n",
        "imputer=SimpleImputer(missing_values=np.nan, strategy='mean')\n",
        "imputer.fit(x_train[:,0:25])\n",
        "x_train[:,0:25]=imputer.transform(x_train[:,0:25])\n",
        "x_test[:,0:25]=imputer.transform(x_test[:,0:25])\n",
        "\n"
      ],
      "metadata": {
        "id": "WQDic42H0fv7"
      },
      "execution_count": 29,
      "outputs": []
    },
    {
      "cell_type": "code",
      "source": [
        "array_sum = np.sum(x_train)\n",
        "array_has_nan = np.isnan(array_sum)\n",
        "print(array_has_nan)"
      ],
      "metadata": {
        "id": "RwfRGXAukyo6",
        "outputId": "16d24d22-0614-4de1-ffc0-bfc53d61b61f",
        "colab": {
          "base_uri": "https://localhost:8080/"
        }
      },
      "execution_count": 30,
      "outputs": [
        {
          "output_type": "stream",
          "name": "stdout",
          "text": [
            "False\n"
          ]
        }
      ]
    },
    {
      "cell_type": "markdown",
      "source": [
        "##Feature Scaling"
      ],
      "metadata": {
        "id": "R044joKKnLa6"
      }
    },
    {
      "cell_type": "code",
      "source": [
        "from sklearn.preprocessing import StandardScaler\n",
        "sc = StandardScaler()\n",
        "x_train[:, :] = sc.fit_transform(x_train[:, :])\n",
        "x_test[:, :] = sc.transform(x_test[:, :])"
      ],
      "metadata": {
        "id": "w78QjZqIoNc9"
      },
      "execution_count": 31,
      "outputs": []
    },
    {
      "cell_type": "markdown",
      "source": [
        "## Finding out how many neighbours are giving the best score"
      ],
      "metadata": {
        "id": "CKQkjIUA7WWZ"
      }
    },
    {
      "cell_type": "code",
      "source": [
        "from sklearn.neighbors import KNeighborsRegressor\n",
        "from sklearn.metrics import accuracy_score,mean_squared_log_error,r2_score\n",
        "from math import sqrt\n",
        "reg_score = []\n",
        "# print(mean_squared_error(y_train,y_train,squared = False))\n",
        "for K in range(20):\n",
        "    K = K+1\n",
        "    model = KNeighborsRegressor(n_neighbors = K)\n",
        "\n",
        "    model.fit(x_train, y_train) \n",
        "    pred=model.predict(x_test) \n",
        "    print (\"For K:\",K, \", regression score is:\",format(r2_score(y_test, pred),'.4f'))\n",
        "    reg_score.append(r2_score(y_test, pred))\n",
        "curve = pd.DataFrame(reg_score) \n",
        "curve.plot()\n"
      ],
      "metadata": {
        "colab": {
          "base_uri": "https://localhost:8080/",
          "height": 630
        },
        "id": "72lZ-J517fKZ",
        "outputId": "481b48bf-e5f7-4ad5-a960-6b4de5b4ef49"
      },
      "execution_count": 35,
      "outputs": [
        {
          "output_type": "stream",
          "name": "stdout",
          "text": [
            "For K: 1 , regression score is: 0.9270\n",
            "For K: 2 , regression score is: 0.9518\n",
            "For K: 3 , regression score is: 0.9601\n",
            "For K: 4 , regression score is: 0.9612\n",
            "For K: 5 , regression score is: 0.9622\n",
            "For K: 6 , regression score is: 0.9621\n",
            "For K: 7 , regression score is: 0.9668\n",
            "For K: 8 , regression score is: 0.9655\n",
            "For K: 9 , regression score is: 0.9622\n",
            "For K: 10 , regression score is: 0.9617\n",
            "For K: 11 , regression score is: 0.9620\n",
            "For K: 12 , regression score is: 0.9598\n",
            "For K: 13 , regression score is: 0.9565\n",
            "For K: 14 , regression score is: 0.9590\n",
            "For K: 15 , regression score is: 0.9576\n",
            "For K: 16 , regression score is: 0.9559\n",
            "For K: 17 , regression score is: 0.9550\n",
            "For K: 18 , regression score is: 0.9530\n",
            "For K: 19 , regression score is: 0.9522\n",
            "For K: 20 , regression score is: 0.9521\n"
          ]
        },
        {
          "output_type": "execute_result",
          "data": {
            "text/plain": [
              "<matplotlib.axes._subplots.AxesSubplot at 0x7f1b70545390>"
            ]
          },
          "metadata": {},
          "execution_count": 35
        },
        {
          "output_type": "display_data",
          "data": {
            "image/png": "[encoded data removed]",
            "text/plain": [
              "<Figure size 432x288 with 1 Axes>"
            ]
          },
          "metadata": {
            "needs_background": "light"
          }
        }
      ]
    },
    {
      "cell_type": "markdown",
      "source": [
        "## k=7 gives us highest regression score, improving that score with some parameters"
      ],
      "metadata": {
        "id": "RcpXpNZ__QjL"
      }
    },
    {
      "cell_type": "code",
      "source": [
        "knn = KNeighborsRegressor(n_neighbors = 7,weights='distance')\n",
        "knn.fit(x_train, y_train) \n",
        "y_pred = knn.predict(x_test)\n",
        "print (\"Regression score is:\", format(r2_score(y_test, y_pred)*100,'.4f'),\"%\")\n",
        "print (\"Mean Squared Error is:\", format(sqrt(mean_squared_log_error(y_test, y_pred)), '.7f'))\n"
      ],
      "metadata": {
        "colab": {
          "base_uri": "https://localhost:8080/"
        },
        "id": "fdhW6zG1_Xmk",
        "outputId": "d85485b9-c8b9-4597-c571-6e9d64685cfa"
      },
      "execution_count": 36,
      "outputs": [
        {
          "output_type": "stream",
          "name": "stdout",
          "text": [
            "Regression score is: 96.7456 %\n",
            "Mean Squared Error is: 0.6756411\n"
          ]
        }
      ]
    },
    {
      "cell_type": "code",
      "source": [
        "comparison = pd.DataFrame({'Actual Points': y_test, 'Predicted Points': y_pred})\n",
        "comparison\n"
      ],
      "metadata": {
        "colab": {
          "base_uri": "https://localhost:8080/",
          "height": 424
        },
        "id": "ROL5yUkAwAVt",
        "outputId": "3a530701-7157-48e6-b2d2-77494d88c8e4"
      },
      "execution_count": 37,
      "outputs": [
        {
          "output_type": "execute_result",
          "data": {
            "text/html": [
              "\n",
              "  <div id=\"df-cf898183-c14e-4404-a7fc-7120f1beb325\">\n",
              "    <div class=\"colab-df-container\">\n",
              "      <div>\n",
              "<style scoped>\n",
              "    .dataframe tbody tr th:only-of-type {\n",
              "        vertical-align: middle;\n",
              "    }\n",
              "\n",
              "    .dataframe tbody tr th {\n",
              "        vertical-align: top;\n",
              "    }\n",
              "\n",
              "    .dataframe thead th {\n",
              "        text-align: right;\n",
              "    }\n",
              "</style>\n",
              "<table border=\"1\" class=\"dataframe\">\n",
              "  <thead>\n",
              "    <tr style=\"text-align: right;\">\n",
              "      <th></th>\n",
              "      <th>Actual Points</th>\n",
              "      <th>Predicted Points</th>\n",
              "    </tr>\n",
              "  </thead>\n",
              "  <tbody>\n",
              "    <tr>\n",
              "      <th>0</th>\n",
              "      <td>436</td>\n",
              "      <td>340.942247</td>\n",
              "    </tr>\n",
              "    <tr>\n",
              "      <th>1</th>\n",
              "      <td>717</td>\n",
              "      <td>681.054444</td>\n",
              "    </tr>\n",
              "    <tr>\n",
              "      <th>2</th>\n",
              "      <td>1096</td>\n",
              "      <td>968.299463</td>\n",
              "    </tr>\n",
              "    <tr>\n",
              "      <th>3</th>\n",
              "      <td>19</td>\n",
              "      <td>64.945301</td>\n",
              "    </tr>\n",
              "    <tr>\n",
              "      <th>4</th>\n",
              "      <td>988</td>\n",
              "      <td>927.108715</td>\n",
              "    </tr>\n",
              "    <tr>\n",
              "      <th>...</th>\n",
              "      <td>...</td>\n",
              "      <td>...</td>\n",
              "    </tr>\n",
              "    <tr>\n",
              "      <th>140</th>\n",
              "      <td>1107</td>\n",
              "      <td>1106.076509</td>\n",
              "    </tr>\n",
              "    <tr>\n",
              "      <th>141</th>\n",
              "      <td>35</td>\n",
              "      <td>31.404343</td>\n",
              "    </tr>\n",
              "    <tr>\n",
              "      <th>142</th>\n",
              "      <td>810</td>\n",
              "      <td>815.352903</td>\n",
              "    </tr>\n",
              "    <tr>\n",
              "      <th>143</th>\n",
              "      <td>796</td>\n",
              "      <td>710.697002</td>\n",
              "    </tr>\n",
              "    <tr>\n",
              "      <th>144</th>\n",
              "      <td>94</td>\n",
              "      <td>82.564944</td>\n",
              "    </tr>\n",
              "  </tbody>\n",
              "</table>\n",
              "<p>145 rows × 2 columns</p>\n",
              "</div>\n",
              "      <button class=\"colab-df-convert\" onclick=\"convertToInteractive('df-cf898183-c14e-4404-a7fc-7120f1beb325')\"\n",
              "              title=\"Convert this dataframe to an interactive table.\"\n",
              "              style=\"display:none;\">\n",
              "        \n",
              "  <svg xmlns=\"http://www.w3.org/2000/svg\" height=\"24px\"viewBox=\"0 0 24 24\"\n",
              "       width=\"24px\">\n",
              "    <path d=\"M0 0h24v24H0V0z\" fill=\"none\"/>\n",
              "    <path d=\"M18.56 5.44l.94 2.06.94-2.06 2.06-.94-2.06-.94-.94-2.06-.94 2.06-2.06.94zm-11 1L8.5 8.5l.94-2.06 2.06-.94-2.06-.94L8.5 2.5l-.94 2.06-2.06.94zm10 10l.94 2.06.94-2.06 2.06-.94-2.06-.94-.94-2.06-.94 2.06-2.06.94z\"/><path d=\"M17.41 7.96l-1.37-1.37c-.4-.4-.92-.59-1.43-.59-.52 0-1.04.2-1.43.59L10.3 9.45l-7.72 7.72c-.78.78-.78 2.05 0 2.83L4 21.41c.39.39.9.59 1.41.59.51 0 1.02-.2 1.41-.59l7.78-7.78 2.81-2.81c.8-.78.8-2.07 0-2.86zM5.41 20L4 18.59l7.72-7.72 1.47 1.35L5.41 20z\"/>\n",
              "  </svg>\n",
              "      </button>\n",
              "      \n",
              "  <style>\n",
              "    .colab-df-container {\n",
              "      display:flex;\n",
              "      flex-wrap:wrap;\n",
              "      gap: 12px;\n",
              "    }\n",
              "\n",
              "    .colab-df-convert {\n",
              "      background-color: #E8F0FE;\n",
              "      border: none;\n",
              "      border-radius: 50%;\n",
              "      cursor: pointer;\n",
              "      display: none;\n",
              "      fill: #1967D2;\n",
              "      height: 32px;\n",
              "      padding: 0 0 0 0;\n",
              "      width: 32px;\n",
              "    }\n",
              "\n",
              "    .colab-df-convert:hover {\n",
              "      background-color: #E2EBFA;\n",
              "      box-shadow: 0px 1px 2px rgba(60, 64, 67, 0.3), 0px 1px 3px 1px rgba(60, 64, 67, 0.15);\n",
              "      fill: #174EA6;\n",
              "    }\n",
              "\n",
              "    [theme=dark] .colab-df-convert {\n",
              "      background-color: #3B4455;\n",
              "      fill: #D2E3FC;\n",
              "    }\n",
              "\n",
              "    [theme=dark] .colab-df-convert:hover {\n",
              "      background-color: #434B5C;\n",
              "      box-shadow: 0px 1px 3px 1px rgba(0, 0, 0, 0.15);\n",
              "      filter: drop-shadow(0px 1px 2px rgba(0, 0, 0, 0.3));\n",
              "      fill: #FFFFFF;\n",
              "    }\n",
              "  </style>\n",
              "\n",
              "      <script>\n",
              "        const buttonEl =\n",
              "          document.querySelector('#df-cf898183-c14e-4404-a7fc-7120f1beb325 button.colab-df-convert');\n",
              "        buttonEl.style.display =\n",
              "          google.colab.kernel.accessAllowed ? 'block' : 'none';\n",
              "\n",
              "        async function convertToInteractive(key) {\n",
              "          const element = document.querySelector('#df-cf898183-c14e-4404-a7fc-7120f1beb325');\n",
              "          const dataTable =\n",
              "            await google.colab.kernel.invokeFunction('convertToInteractive',\n",
              "                                                     [key], {});\n",
              "          if (!dataTable) return;\n",
              "\n",
              "          const docLinkHtml = 'Like what you see? Visit the ' +\n",
              "            '<a target=\"_blank\" href=https://colab.research.google.com/notebooks/data_table.ipynb>data table notebook</a>'\n",
              "            + ' to learn more about interactive tables.';\n",
              "          element.innerHTML = '';\n",
              "          dataTable['output_type'] = 'display_data';\n",
              "          await google.colab.output.renderOutput(dataTable, element);\n",
              "          const docLink = document.createElement('div');\n",
              "          docLink.innerHTML = docLinkHtml;\n",
              "          element.appendChild(docLink);\n",
              "        }\n",
              "      </script>\n",
              "    </div>\n",
              "  </div>\n",
              "  "
            ],
            "text/plain": [
              "     Actual Points  Predicted Points\n",
              "0              436        340.942247\n",
              "1              717        681.054444\n",
              "2             1096        968.299463\n",
              "3               19         64.945301\n",
              "4              988        927.108715\n",
              "..             ...               ...\n",
              "140           1107       1106.076509\n",
              "141             35         31.404343\n",
              "142            810        815.352903\n",
              "143            796        710.697002\n",
              "144             94         82.564944\n",
              "\n",
              "[145 rows x 2 columns]"
            ]
          },
          "metadata": {},
          "execution_count": 37
        }
      ]
    }
  ],
  "metadata": {
    "colab": {
      "collapsed_sections": [],
      "name": "Score Prediction",
      "provenance": []
    },
    "kernelspec": {
      "display_name": "Python 3",
      "name": "python3"
    }
  },
  "nbformat": 4,
  "nbformat_minor": 0
}